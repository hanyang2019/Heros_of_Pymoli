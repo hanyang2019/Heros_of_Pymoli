{
 "cells": [
  {
   "cell_type": "code",
   "execution_count": 1,
   "metadata": {},
   "outputs": [],
   "source": [
    "import pandas as pd"
   ]
  },
  {
   "cell_type": "code",
   "execution_count": 2,
   "metadata": {},
   "outputs": [],
   "source": [
    "file=\"purchase_data.csv\""
   ]
  },
  {
   "cell_type": "code",
   "execution_count": 3,
   "metadata": {},
   "outputs": [
    {
     "data": {
      "text/html": [
       "<div>\n",
       "<style scoped>\n",
       "    .dataframe tbody tr th:only-of-type {\n",
       "        vertical-align: middle;\n",
       "    }\n",
       "\n",
       "    .dataframe tbody tr th {\n",
       "        vertical-align: top;\n",
       "    }\n",
       "\n",
       "    .dataframe thead th {\n",
       "        text-align: right;\n",
       "    }\n",
       "</style>\n",
       "<table border=\"1\" class=\"dataframe\">\n",
       "  <thead>\n",
       "    <tr style=\"text-align: right;\">\n",
       "      <th></th>\n",
       "      <th>Purchase ID</th>\n",
       "      <th>SN</th>\n",
       "      <th>Age</th>\n",
       "      <th>Gender</th>\n",
       "      <th>Item ID</th>\n",
       "      <th>Item Name</th>\n",
       "      <th>Price</th>\n",
       "    </tr>\n",
       "  </thead>\n",
       "  <tbody>\n",
       "    <tr>\n",
       "      <th>0</th>\n",
       "      <td>0</td>\n",
       "      <td>Lisim78</td>\n",
       "      <td>20</td>\n",
       "      <td>Male</td>\n",
       "      <td>108</td>\n",
       "      <td>Extraction, Quickblade Of Trembling Hands</td>\n",
       "      <td>3.53</td>\n",
       "    </tr>\n",
       "    <tr>\n",
       "      <th>1</th>\n",
       "      <td>1</td>\n",
       "      <td>Lisovynya38</td>\n",
       "      <td>40</td>\n",
       "      <td>Male</td>\n",
       "      <td>143</td>\n",
       "      <td>Frenzied Scimitar</td>\n",
       "      <td>1.56</td>\n",
       "    </tr>\n",
       "    <tr>\n",
       "      <th>2</th>\n",
       "      <td>2</td>\n",
       "      <td>Ithergue48</td>\n",
       "      <td>24</td>\n",
       "      <td>Male</td>\n",
       "      <td>92</td>\n",
       "      <td>Final Critic</td>\n",
       "      <td>4.88</td>\n",
       "    </tr>\n",
       "    <tr>\n",
       "      <th>3</th>\n",
       "      <td>3</td>\n",
       "      <td>Chamassasya86</td>\n",
       "      <td>24</td>\n",
       "      <td>Male</td>\n",
       "      <td>100</td>\n",
       "      <td>Blindscythe</td>\n",
       "      <td>3.27</td>\n",
       "    </tr>\n",
       "    <tr>\n",
       "      <th>4</th>\n",
       "      <td>4</td>\n",
       "      <td>Iskosia90</td>\n",
       "      <td>23</td>\n",
       "      <td>Male</td>\n",
       "      <td>131</td>\n",
       "      <td>Fury</td>\n",
       "      <td>1.44</td>\n",
       "    </tr>\n",
       "  </tbody>\n",
       "</table>\n",
       "</div>"
      ],
      "text/plain": [
       "   Purchase ID             SN  Age Gender  Item ID  \\\n",
       "0            0        Lisim78   20   Male      108   \n",
       "1            1    Lisovynya38   40   Male      143   \n",
       "2            2     Ithergue48   24   Male       92   \n",
       "3            3  Chamassasya86   24   Male      100   \n",
       "4            4      Iskosia90   23   Male      131   \n",
       "\n",
       "                                   Item Name  Price  \n",
       "0  Extraction, Quickblade Of Trembling Hands   3.53  \n",
       "1                          Frenzied Scimitar   1.56  \n",
       "2                               Final Critic   4.88  \n",
       "3                                Blindscythe   3.27  \n",
       "4                                       Fury   1.44  "
      ]
     },
     "execution_count": 3,
     "metadata": {},
     "output_type": "execute_result"
    }
   ],
   "source": [
    "purchase_data_df=pd.read_csv(file)\n",
    "purchase_data_df.head()"
   ]
  },
  {
   "cell_type": "code",
   "execution_count": 4,
   "metadata": {},
   "outputs": [
    {
     "name": "stdout",
     "output_type": "stream",
     "text": [
      "576\n"
     ]
    }
   ],
   "source": [
    "# total number of players\n",
    "players_total=len(purchase_data_df['SN'].unique())\n",
    "print(players_total)"
   ]
  },
  {
   "cell_type": "code",
   "execution_count": 5,
   "metadata": {},
   "outputs": [
    {
     "data": {
      "text/html": [
       "<div>\n",
       "<style scoped>\n",
       "    .dataframe tbody tr th:only-of-type {\n",
       "        vertical-align: middle;\n",
       "    }\n",
       "\n",
       "    .dataframe tbody tr th {\n",
       "        vertical-align: top;\n",
       "    }\n",
       "\n",
       "    .dataframe thead th {\n",
       "        text-align: right;\n",
       "    }\n",
       "</style>\n",
       "<table border=\"1\" class=\"dataframe\">\n",
       "  <thead>\n",
       "    <tr style=\"text-align: right;\">\n",
       "      <th></th>\n",
       "      <th>Total Players</th>\n",
       "    </tr>\n",
       "  </thead>\n",
       "  <tbody>\n",
       "    <tr>\n",
       "      <th>0</th>\n",
       "      <td>576</td>\n",
       "    </tr>\n",
       "  </tbody>\n",
       "</table>\n",
       "</div>"
      ],
      "text/plain": [
       "   Total Players\n",
       "0            576"
      ]
     },
     "execution_count": 5,
     "metadata": {},
     "output_type": "execute_result"
    }
   ],
   "source": [
    "total_player_summary=pd.DataFrame({'Total Players':[players_total]})\n",
    "total_player_summary"
   ]
  },
  {
   "cell_type": "code",
   "execution_count": 6,
   "metadata": {},
   "outputs": [
    {
     "name": "stdout",
     "output_type": "stream",
     "text": [
      "183\n"
     ]
    }
   ],
   "source": [
    "# number of unique items\n",
    "unique_item_total=len(purchase_data_df['Item ID'].unique())\n",
    "print(unique_item_total)"
   ]
  },
  {
   "cell_type": "code",
   "execution_count": 7,
   "metadata": {},
   "outputs": [
    {
     "name": "stdout",
     "output_type": "stream",
     "text": [
      "3.05\n"
     ]
    }
   ],
   "source": [
    "# average purchase price\n",
    "avg_purchase_price=round(purchase_data_df['Price'].mean(),2)\n",
    "print(avg_purchase_price)"
   ]
  },
  {
   "cell_type": "code",
   "execution_count": 8,
   "metadata": {},
   "outputs": [
    {
     "name": "stdout",
     "output_type": "stream",
     "text": [
      "780\n"
     ]
    }
   ],
   "source": [
    "# total number of purchase\n",
    "purchase_total=purchase_data_df['Item ID'].count()\n",
    "print(purchase_total)"
   ]
  },
  {
   "cell_type": "code",
   "execution_count": 9,
   "metadata": {},
   "outputs": [
    {
     "name": "stdout",
     "output_type": "stream",
     "text": [
      "2379.77\n"
     ]
    }
   ],
   "source": [
    "# total revenue\n",
    "total_revenue=purchase_data_df['Price'].sum()\n",
    "print(total_revenue)"
   ]
  },
  {
   "cell_type": "code",
   "execution_count": 10,
   "metadata": {},
   "outputs": [
    {
     "data": {
      "text/html": [
       "<div>\n",
       "<style scoped>\n",
       "    .dataframe tbody tr th:only-of-type {\n",
       "        vertical-align: middle;\n",
       "    }\n",
       "\n",
       "    .dataframe tbody tr th {\n",
       "        vertical-align: top;\n",
       "    }\n",
       "\n",
       "    .dataframe thead th {\n",
       "        text-align: right;\n",
       "    }\n",
       "</style>\n",
       "<table border=\"1\" class=\"dataframe\">\n",
       "  <thead>\n",
       "    <tr style=\"text-align: right;\">\n",
       "      <th></th>\n",
       "      <th>Number of Unique Items</th>\n",
       "      <th>Average Price</th>\n",
       "      <th>Number of Purchases</th>\n",
       "      <th>Total Revenue</th>\n",
       "    </tr>\n",
       "  </thead>\n",
       "  <tbody>\n",
       "    <tr>\n",
       "      <th>0</th>\n",
       "      <td>183</td>\n",
       "      <td>$3.05</td>\n",
       "      <td>780</td>\n",
       "      <td>$2,379.77</td>\n",
       "    </tr>\n",
       "  </tbody>\n",
       "</table>\n",
       "</div>"
      ],
      "text/plain": [
       "   Number of Unique Items Average Price  Number of Purchases Total Revenue\n",
       "0                     183         $3.05                  780     $2,379.77"
      ]
     },
     "execution_count": 10,
     "metadata": {},
     "output_type": "execute_result"
    }
   ],
   "source": [
    "purchase_analysis_summary=pd.DataFrame({'Number of Unique Items':[unique_item_total],\n",
    "                                       'Average Price':[avg_purchase_price],\n",
    "                                       'Number of Purchases':[purchase_total],\n",
    "                                       'Total Revenue':[total_revenue]})\n",
    "purchase_analysis_summary['Average Price']=purchase_analysis_summary['Average Price'].map('${:.2f}'.format)\n",
    "purchase_analysis_summary['Total Revenue']=purchase_analysis_summary['Total Revenue'].map('${:4,.2f}'.format)\n",
    "purchase_analysis_summary"
   ]
  },
  {
   "cell_type": "code",
   "execution_count": 11,
   "metadata": {},
   "outputs": [
    {
     "name": "stdout",
     "output_type": "stream",
     "text": [
      "['Male' 'Other / Non-Disclosed' 'Female']\n"
     ]
    }
   ],
   "source": [
    "gender=purchase_data_df['Gender'].unique()\n",
    "print(gender)"
   ]
  },
  {
   "cell_type": "code",
   "execution_count": 12,
   "metadata": {},
   "outputs": [
    {
     "name": "stdout",
     "output_type": "stream",
     "text": [
      "484\n"
     ]
    }
   ],
   "source": [
    "# count of male players\n",
    "male_player_df=purchase_data_df[purchase_data_df['Gender']=='Male']\n",
    "male_total=len(male_player_df['SN'].unique())\n",
    "print(male_total)"
   ]
  },
  {
   "cell_type": "code",
   "execution_count": 13,
   "metadata": {},
   "outputs": [
    {
     "name": "stdout",
     "output_type": "stream",
     "text": [
      "84.03%\n"
     ]
    }
   ],
   "source": [
    "# percentage of male players\n",
    "pct_male=round(male_total/players_total*100,2)\n",
    "print(f'{pct_male}%')"
   ]
  },
  {
   "cell_type": "code",
   "execution_count": 14,
   "metadata": {},
   "outputs": [
    {
     "name": "stdout",
     "output_type": "stream",
     "text": [
      "81\n"
     ]
    }
   ],
   "source": [
    "# count of female players\n",
    "female_player_df=purchase_data_df[purchase_data_df['Gender']=='Female']\n",
    "female_total=len(female_player_df['SN'].unique())\n",
    "print(female_total)"
   ]
  },
  {
   "cell_type": "code",
   "execution_count": 15,
   "metadata": {},
   "outputs": [
    {
     "name": "stdout",
     "output_type": "stream",
     "text": [
      "14.06%\n"
     ]
    }
   ],
   "source": [
    "# percentage of female players\n",
    "pct_female=round(female_total/players_total*100,2)\n",
    "print(f'{pct_female}%')"
   ]
  },
  {
   "cell_type": "code",
   "execution_count": 16,
   "metadata": {},
   "outputs": [
    {
     "name": "stdout",
     "output_type": "stream",
     "text": [
      "11\n"
     ]
    }
   ],
   "source": [
    "# count of other / non-Disclosed players\n",
    "other_player_df=purchase_data_df[purchase_data_df['Gender']=='Other / Non-Disclosed']\n",
    "other_total=len(other_player_df['SN'].unique())\n",
    "print(other_total)"
   ]
  },
  {
   "cell_type": "code",
   "execution_count": 17,
   "metadata": {},
   "outputs": [
    {
     "name": "stdout",
     "output_type": "stream",
     "text": [
      "1.91%\n"
     ]
    }
   ],
   "source": [
    "# percentage of other / non-Disclosed players\n",
    "pct_other=round(other_total/players_total*100,2)\n",
    "print(f'{pct_other}%')"
   ]
  },
  {
   "cell_type": "code",
   "execution_count": 18,
   "metadata": {},
   "outputs": [
    {
     "data": {
      "text/html": [
       "<div>\n",
       "<style scoped>\n",
       "    .dataframe tbody tr th:only-of-type {\n",
       "        vertical-align: middle;\n",
       "    }\n",
       "\n",
       "    .dataframe tbody tr th {\n",
       "        vertical-align: top;\n",
       "    }\n",
       "\n",
       "    .dataframe thead th {\n",
       "        text-align: right;\n",
       "    }\n",
       "</style>\n",
       "<table border=\"1\" class=\"dataframe\">\n",
       "  <thead>\n",
       "    <tr style=\"text-align: right;\">\n",
       "      <th></th>\n",
       "      <th>Total Count</th>\n",
       "      <th>Percentage of Players</th>\n",
       "    </tr>\n",
       "    <tr>\n",
       "      <th>Gender</th>\n",
       "      <th></th>\n",
       "      <th></th>\n",
       "    </tr>\n",
       "  </thead>\n",
       "  <tbody>\n",
       "    <tr>\n",
       "      <th>Male</th>\n",
       "      <td>484</td>\n",
       "      <td>84.03</td>\n",
       "    </tr>\n",
       "    <tr>\n",
       "      <th>Female</th>\n",
       "      <td>81</td>\n",
       "      <td>14.06</td>\n",
       "    </tr>\n",
       "    <tr>\n",
       "      <th>Other / Non-Disclosed</th>\n",
       "      <td>11</td>\n",
       "      <td>1.91</td>\n",
       "    </tr>\n",
       "  </tbody>\n",
       "</table>\n",
       "</div>"
      ],
      "text/plain": [
       "                       Total Count  Percentage of Players\n",
       "Gender                                                   \n",
       "Male                           484                  84.03\n",
       "Female                          81                  14.06\n",
       "Other / Non-Disclosed           11                   1.91"
      ]
     },
     "execution_count": 18,
     "metadata": {},
     "output_type": "execute_result"
    }
   ],
   "source": [
    "gender_demographics=pd.DataFrame({'Total Count':[male_total, female_total, other_total],\n",
    "                                 'Percentage of Players': [pct_male, pct_female, pct_other],\n",
    "                                 'Gender':['Male','Female','Other / Non-Disclosed']})\n",
    "gender_demographics.set_index(['Gender'])"
   ]
  },
  {
   "cell_type": "code",
   "execution_count": 19,
   "metadata": {},
   "outputs": [
    {
     "name": "stdout",
     "output_type": "stream",
     "text": [
      "652\n",
      "113\n",
      "15\n"
     ]
    }
   ],
   "source": [
    "# Purchase count by gender\n",
    "gender_data_df=purchase_data_df.set_index('Gender')\n",
    "# male\n",
    "male_purchase_count=len(gender_data_df.loc[['Male'],['Item ID']])\n",
    "print(male_purchase_count)\n",
    "# female\n",
    "female_purchase_count=len(gender_data_df.loc[['Female'],['Item ID']])\n",
    "print(female_purchase_count)\n",
    "# other / non-Disclosed\n",
    "other_purchase_count=len(gender_data_df.loc[['Other / Non-Disclosed'],['Item ID']])\n",
    "print(other_purchase_count)"
   ]
  },
  {
   "cell_type": "code",
   "execution_count": 20,
   "metadata": {},
   "outputs": [
    {
     "name": "stdout",
     "output_type": "stream",
     "text": [
      "Price    3.02\n",
      "dtype: float64\n",
      "Price    3.2\n",
      "dtype: float64\n",
      "Price    3.35\n",
      "dtype: float64\n"
     ]
    }
   ],
   "source": [
    "# average purchase price\n",
    "# male\n",
    "male_avg_price=round(gender_data_df.loc[['Male'],['Price']].mean(),2)\n",
    "print(male_avg_price)\n",
    "# female\n",
    "female_avg_price=round(gender_data_df.loc[['Female'],['Price']].mean(),2)\n",
    "print(female_avg_price)\n",
    "# other\n",
    "other_avg_price=round(gender_data_df.loc[['Other / Non-Disclosed'],['Price']].mean(),2)\n",
    "print(other_avg_price)\n",
    "\n"
   ]
  },
  {
   "cell_type": "code",
   "execution_count": 21,
   "metadata": {},
   "outputs": [
    {
     "name": "stdout",
     "output_type": "stream",
     "text": [
      "Price    1967.64\n",
      "dtype: float64\n",
      "Price    361.94\n",
      "dtype: float64\n",
      "Price    50.19\n",
      "dtype: float64\n"
     ]
    }
   ],
   "source": [
    "# total purchase value\n",
    "# male\n",
    "male_total_purchase_value=round(gender_data_df.loc[['Male'],['Price']].sum(),2)\n",
    "print(male_total_purchase_value)\n",
    "# female\n",
    "female_total_purchase_value=round(gender_data_df.loc[['Female'],['Price']].sum(),2)\n",
    "print(female_total_purchase_value)\n",
    "# other\n",
    "other_total_purchase_value=round(gender_data_df.loc[['Other / Non-Disclosed'],['Price']].sum(),2)\n",
    "print(other_total_purchase_value)"
   ]
  },
  {
   "cell_type": "code",
   "execution_count": 22,
   "metadata": {},
   "outputs": [
    {
     "name": "stdout",
     "output_type": "stream",
     "text": [
      "Price    4.07\n",
      "dtype: float64\n",
      "Price    4.47\n",
      "dtype: float64\n",
      "Price    4.56\n",
      "dtype: float64\n"
     ]
    }
   ],
   "source": [
    "# average purchase total per person\n",
    "#male\n",
    "male_avg_purchase_total=round(male_total_purchase_value/male_total,2)\n",
    "print(male_avg_purchase_total)\n",
    "# female\n",
    "female_avg_purchase_total=round(female_total_purchase_value/female_total,2)\n",
    "print(female_avg_purchase_total)\n",
    "# other\n",
    "other_avg_purchase_total=round(other_total_purchase_value/other_total,2)\n",
    "print(other_avg_purchase_total)"
   ]
  },
  {
   "cell_type": "code",
   "execution_count": 23,
   "metadata": {},
   "outputs": [
    {
     "data": {
      "text/plain": [
       "Gender\n",
       "Female                    361.94\n",
       "Male                     1967.64\n",
       "Other / Non-Disclosed      50.19\n",
       "Name: Price, dtype: float64"
      ]
     },
     "execution_count": 23,
     "metadata": {},
     "output_type": "execute_result"
    }
   ],
   "source": [
    "gender_groupby_purchase_data_df=purchase_data_df.groupby(['Gender'])\n",
    "gender_groupby_purchase_data_df['Price'].mean()\n",
    "gender_groupby_purchase_data_df['Price'].sum()"
   ]
  },
  {
   "cell_type": "code",
   "execution_count": null,
   "metadata": {},
   "outputs": [],
   "source": []
  },
  {
   "cell_type": "code",
   "execution_count": 24,
   "metadata": {},
   "outputs": [
    {
     "data": {
      "text/html": [
       "<div>\n",
       "<style scoped>\n",
       "    .dataframe tbody tr th:only-of-type {\n",
       "        vertical-align: middle;\n",
       "    }\n",
       "\n",
       "    .dataframe tbody tr th {\n",
       "        vertical-align: top;\n",
       "    }\n",
       "\n",
       "    .dataframe thead th {\n",
       "        text-align: right;\n",
       "    }\n",
       "</style>\n",
       "<table border=\"1\" class=\"dataframe\">\n",
       "  <thead>\n",
       "    <tr style=\"text-align: right;\">\n",
       "      <th></th>\n",
       "      <th>Purchase Count</th>\n",
       "      <th>Average Purchase Price</th>\n",
       "      <th>Total Purchase Value</th>\n",
       "      <th>Average Total Purchase Per Person</th>\n",
       "    </tr>\n",
       "    <tr>\n",
       "      <th>Gender</th>\n",
       "      <th></th>\n",
       "      <th></th>\n",
       "      <th></th>\n",
       "      <th></th>\n",
       "    </tr>\n",
       "  </thead>\n",
       "  <tbody>\n",
       "    <tr>\n",
       "      <th>Female</th>\n",
       "      <td>113</td>\n",
       "      <td>$3.20</td>\n",
       "      <td>$361.94</td>\n",
       "      <td>$4.47</td>\n",
       "    </tr>\n",
       "    <tr>\n",
       "      <th>Male</th>\n",
       "      <td>652</td>\n",
       "      <td>$3.02</td>\n",
       "      <td>$1,967.64</td>\n",
       "      <td>$4.07</td>\n",
       "    </tr>\n",
       "    <tr>\n",
       "      <th>Other / Non-Disclosed</th>\n",
       "      <td>15</td>\n",
       "      <td>$3.35</td>\n",
       "      <td>$50.19</td>\n",
       "      <td>$4.56</td>\n",
       "    </tr>\n",
       "  </tbody>\n",
       "</table>\n",
       "</div>"
      ],
      "text/plain": [
       "                       Purchase Count Average Purchase Price  \\\n",
       "Gender                                                         \n",
       "Female                            113                  $3.20   \n",
       "Male                              652                  $3.02   \n",
       "Other / Non-Disclosed              15                  $3.35   \n",
       "\n",
       "                      Total Purchase Value Average Total Purchase Per Person  \n",
       "Gender                                                                        \n",
       "Female                             $361.94                             $4.47  \n",
       "Male                             $1,967.64                             $4.07  \n",
       "Other / Non-Disclosed               $50.19                             $4.56  "
      ]
     },
     "execution_count": 24,
     "metadata": {},
     "output_type": "execute_result"
    }
   ],
   "source": [
    "purchasing_analysis_gender=pd.DataFrame({'Purchase Count':[female_purchase_count, male_purchase_count, other_purchase_count],\n",
    "                                 'Average Purchase Price': round(gender_groupby_purchase_data_df['Price'].mean(),2),\n",
    "                                 'Total Purchase Value':gender_groupby_purchase_data_df['Price'].sum(),\n",
    "                                 'Total Count':[female_total, male_total, other_total]})\n",
    "purchasing_analysis_gender['Average Total Purchase Per Person']=round(purchasing_analysis_gender['Total Purchase Value']/purchasing_analysis_gender['Total Count'],2)\n",
    "purchasing_analysis_gender['Average Purchase Price']=purchasing_analysis_gender['Average Purchase Price'].map('${:.2f}'.format)\n",
    "purchasing_analysis_gender['Total Purchase Value']=purchasing_analysis_gender['Total Purchase Value'].map('${:4,.2f}'.format)\n",
    "purchasing_analysis_gender['Average Total Purchase Per Person']=purchasing_analysis_gender['Average Total Purchase Per Person'].map('${:4,.2f}'.format)\n",
    "\n",
    "purchasing_analysis_gender[['Purchase Count','Average Purchase Price','Total Purchase Value','Average Total Purchase Per Person']]\n"
   ]
  },
  {
   "cell_type": "code",
   "execution_count": 25,
   "metadata": {},
   "outputs": [
    {
     "name": "stdout",
     "output_type": "stream",
     "text": [
      "45\n",
      "7\n"
     ]
    }
   ],
   "source": [
    "print(purchase_data_df['Age'].max())\n",
    "print(purchase_data_df['Age'].min())"
   ]
  },
  {
   "cell_type": "code",
   "execution_count": 26,
   "metadata": {},
   "outputs": [
    {
     "data": {
      "text/html": [
       "<div>\n",
       "<style scoped>\n",
       "    .dataframe tbody tr th:only-of-type {\n",
       "        vertical-align: middle;\n",
       "    }\n",
       "\n",
       "    .dataframe tbody tr th {\n",
       "        vertical-align: top;\n",
       "    }\n",
       "\n",
       "    .dataframe thead th {\n",
       "        text-align: right;\n",
       "    }\n",
       "</style>\n",
       "<table border=\"1\" class=\"dataframe\">\n",
       "  <thead>\n",
       "    <tr style=\"text-align: right;\">\n",
       "      <th></th>\n",
       "      <th>Purchase ID</th>\n",
       "      <th>SN</th>\n",
       "      <th>Age</th>\n",
       "      <th>Gender</th>\n",
       "      <th>Item ID</th>\n",
       "      <th>Item Name</th>\n",
       "      <th>Price</th>\n",
       "      <th>Age Group</th>\n",
       "    </tr>\n",
       "  </thead>\n",
       "  <tbody>\n",
       "    <tr>\n",
       "      <th>0</th>\n",
       "      <td>0</td>\n",
       "      <td>Lisim78</td>\n",
       "      <td>20</td>\n",
       "      <td>Male</td>\n",
       "      <td>108</td>\n",
       "      <td>Extraction, Quickblade Of Trembling Hands</td>\n",
       "      <td>3.53</td>\n",
       "      <td>20-24</td>\n",
       "    </tr>\n",
       "    <tr>\n",
       "      <th>1</th>\n",
       "      <td>1</td>\n",
       "      <td>Lisovynya38</td>\n",
       "      <td>40</td>\n",
       "      <td>Male</td>\n",
       "      <td>143</td>\n",
       "      <td>Frenzied Scimitar</td>\n",
       "      <td>1.56</td>\n",
       "      <td>40+</td>\n",
       "    </tr>\n",
       "    <tr>\n",
       "      <th>2</th>\n",
       "      <td>2</td>\n",
       "      <td>Ithergue48</td>\n",
       "      <td>24</td>\n",
       "      <td>Male</td>\n",
       "      <td>92</td>\n",
       "      <td>Final Critic</td>\n",
       "      <td>4.88</td>\n",
       "      <td>20-24</td>\n",
       "    </tr>\n",
       "    <tr>\n",
       "      <th>3</th>\n",
       "      <td>3</td>\n",
       "      <td>Chamassasya86</td>\n",
       "      <td>24</td>\n",
       "      <td>Male</td>\n",
       "      <td>100</td>\n",
       "      <td>Blindscythe</td>\n",
       "      <td>3.27</td>\n",
       "      <td>20-24</td>\n",
       "    </tr>\n",
       "    <tr>\n",
       "      <th>4</th>\n",
       "      <td>4</td>\n",
       "      <td>Iskosia90</td>\n",
       "      <td>23</td>\n",
       "      <td>Male</td>\n",
       "      <td>131</td>\n",
       "      <td>Fury</td>\n",
       "      <td>1.44</td>\n",
       "      <td>20-24</td>\n",
       "    </tr>\n",
       "  </tbody>\n",
       "</table>\n",
       "</div>"
      ],
      "text/plain": [
       "   Purchase ID             SN  Age Gender  Item ID  \\\n",
       "0            0        Lisim78   20   Male      108   \n",
       "1            1    Lisovynya38   40   Male      143   \n",
       "2            2     Ithergue48   24   Male       92   \n",
       "3            3  Chamassasya86   24   Male      100   \n",
       "4            4      Iskosia90   23   Male      131   \n",
       "\n",
       "                                   Item Name  Price Age Group  \n",
       "0  Extraction, Quickblade Of Trembling Hands   3.53     20-24  \n",
       "1                          Frenzied Scimitar   1.56       40+  \n",
       "2                               Final Critic   4.88     20-24  \n",
       "3                                Blindscythe   3.27     20-24  \n",
       "4                                       Fury   1.44     20-24  "
      ]
     },
     "execution_count": 26,
     "metadata": {},
     "output_type": "execute_result"
    }
   ],
   "source": [
    "# age demographiocs\n",
    "bins=[0,9.9,14,19,24,29,34,39,46]\n",
    "group_names=['<10','10-14','15-19','20-24','25-29','30-34','35-39','40+']\n",
    "age_purchase_data_df=purchase_data_df.copy()\n",
    "age_purchase_data_df['Age Group']=pd.cut(age_purchase_data_df['Age'],bins,labels=group_names)\n",
    "age_purchase_data_df.head()"
   ]
  },
  {
   "cell_type": "code",
   "execution_count": 27,
   "metadata": {},
   "outputs": [
    {
     "data": {
      "text/plain": [
       "Age Group\n",
       "<10       23\n",
       "10-14     28\n",
       "15-19    136\n",
       "20-24    365\n",
       "25-29    101\n",
       "30-34     73\n",
       "35-39     41\n",
       "40+       13\n",
       "Name: Item ID, dtype: int64"
      ]
     },
     "execution_count": 27,
     "metadata": {},
     "output_type": "execute_result"
    }
   ],
   "source": [
    "groupby_age_purchase_data_df=age_purchase_data_df.groupby(['Age Group'])\n",
    "groupby_age_purchase_data_df['Item ID'].count()"
   ]
  },
  {
   "cell_type": "code",
   "execution_count": 28,
   "metadata": {},
   "outputs": [
    {
     "data": {
      "text/plain": [
       "Age Group\n",
       "<10      3.35\n",
       "10-14    2.96\n",
       "15-19    3.04\n",
       "20-24    3.05\n",
       "25-29    2.90\n",
       "30-34    2.93\n",
       "35-39    3.60\n",
       "40+      2.94\n",
       "Name: Price, dtype: float64"
      ]
     },
     "execution_count": 28,
     "metadata": {},
     "output_type": "execute_result"
    }
   ],
   "source": [
    "round(groupby_age_purchase_data_df['Price'].mean(),2)"
   ]
  },
  {
   "cell_type": "code",
   "execution_count": 29,
   "metadata": {},
   "outputs": [
    {
     "data": {
      "text/plain": [
       "Age Group\n",
       "<10        77.13\n",
       "10-14      82.78\n",
       "15-19     412.89\n",
       "20-24    1114.06\n",
       "25-29     293.00\n",
       "30-34     214.00\n",
       "35-39     147.67\n",
       "40+        38.24\n",
       "Name: Price, dtype: float64"
      ]
     },
     "execution_count": 29,
     "metadata": {},
     "output_type": "execute_result"
    }
   ],
   "source": [
    "groupby_age_purchase_data_df['Price'].sum()"
   ]
  },
  {
   "cell_type": "code",
   "execution_count": 30,
   "metadata": {},
   "outputs": [
    {
     "name": "stdout",
     "output_type": "stream",
     "text": [
      "17\n"
     ]
    }
   ],
   "source": [
    "# count of players in age group <10\n",
    "under_10_df=age_purchase_data_df[age_purchase_data_df['Age Group']=='<10']\n",
    "count_under_10=len(under_10_df['SN'].unique())\n",
    "print(count_under_10)"
   ]
  },
  {
   "cell_type": "code",
   "execution_count": 31,
   "metadata": {},
   "outputs": [
    {
     "name": "stdout",
     "output_type": "stream",
     "text": [
      "22\n"
     ]
    }
   ],
   "source": [
    "# count of players in age group 10-14\n",
    "age_10_14_df=age_purchase_data_df[age_purchase_data_df['Age Group']=='10-14']\n",
    "count_10_14=len(age_10_14_df['SN'].unique())\n",
    "print(count_10_14)"
   ]
  },
  {
   "cell_type": "code",
   "execution_count": 32,
   "metadata": {},
   "outputs": [
    {
     "name": "stdout",
     "output_type": "stream",
     "text": [
      "107\n"
     ]
    }
   ],
   "source": [
    "# count of players in age group 15-19\n",
    "age_15_19_df=age_purchase_data_df[age_purchase_data_df['Age Group']=='15-19']\n",
    "count_15_19=len(age_15_19_df['SN'].unique())\n",
    "print(count_15_19)"
   ]
  },
  {
   "cell_type": "code",
   "execution_count": 33,
   "metadata": {},
   "outputs": [
    {
     "name": "stdout",
     "output_type": "stream",
     "text": [
      "258\n"
     ]
    }
   ],
   "source": [
    "# count of players in age group 20-24\n",
    "age_20_24_df=age_purchase_data_df[age_purchase_data_df['Age Group']=='20-24']\n",
    "count_20_24=len(age_20_24_df['SN'].unique())\n",
    "print(count_20_24)"
   ]
  },
  {
   "cell_type": "code",
   "execution_count": 34,
   "metadata": {},
   "outputs": [
    {
     "name": "stdout",
     "output_type": "stream",
     "text": [
      "77\n"
     ]
    }
   ],
   "source": [
    "# count of players in age group 25-29\n",
    "age_25_29_df=age_purchase_data_df[age_purchase_data_df['Age Group']=='25-29']\n",
    "count_25_29=len(age_25_29_df['SN'].unique())\n",
    "print(count_25_29)"
   ]
  },
  {
   "cell_type": "code",
   "execution_count": 35,
   "metadata": {},
   "outputs": [
    {
     "name": "stdout",
     "output_type": "stream",
     "text": [
      "52\n"
     ]
    }
   ],
   "source": [
    "# count of players in age group 30-34\n",
    "age_30_34_df=age_purchase_data_df[age_purchase_data_df['Age Group']=='30-34']\n",
    "count_30_34=len(age_30_34_df['SN'].unique())\n",
    "print(count_30_34)"
   ]
  },
  {
   "cell_type": "code",
   "execution_count": 36,
   "metadata": {},
   "outputs": [
    {
     "name": "stdout",
     "output_type": "stream",
     "text": [
      "31\n"
     ]
    }
   ],
   "source": [
    "# count of players in age group 35-39\n",
    "age_35_39_df=age_purchase_data_df[age_purchase_data_df['Age Group']=='35-39']\n",
    "count_35_39=len(age_35_39_df['SN'].unique())\n",
    "print(count_35_39)"
   ]
  },
  {
   "cell_type": "code",
   "execution_count": 37,
   "metadata": {},
   "outputs": [
    {
     "name": "stdout",
     "output_type": "stream",
     "text": [
      "12\n"
     ]
    }
   ],
   "source": [
    "# count of players in age group 40+\n",
    "age_40_plus_df=age_purchase_data_df[age_purchase_data_df['Age Group']=='40+']\n",
    "count_40_plus=len(age_40_plus_df['SN'].unique())\n",
    "print(count_40_plus)"
   ]
  },
  {
   "cell_type": "code",
   "execution_count": 38,
   "metadata": {},
   "outputs": [],
   "source": [
    "# Age demographics summary"
   ]
  },
  {
   "cell_type": "code",
   "execution_count": 51,
   "metadata": {},
   "outputs": [
    {
     "data": {
      "text/html": [
       "<div>\n",
       "<style scoped>\n",
       "    .dataframe tbody tr th:only-of-type {\n",
       "        vertical-align: middle;\n",
       "    }\n",
       "\n",
       "    .dataframe tbody tr th {\n",
       "        vertical-align: top;\n",
       "    }\n",
       "\n",
       "    .dataframe thead th {\n",
       "        text-align: right;\n",
       "    }\n",
       "</style>\n",
       "<table border=\"1\" class=\"dataframe\">\n",
       "  <thead>\n",
       "    <tr style=\"text-align: right;\">\n",
       "      <th></th>\n",
       "      <th>Player Count</th>\n",
       "      <th>Percentage of Player</th>\n",
       "      <th>Purchase Count</th>\n",
       "      <th>Average Purchase Price</th>\n",
       "      <th>Total Purchase Value</th>\n",
       "      <th>Average Total Purchase Per Person</th>\n",
       "    </tr>\n",
       "    <tr>\n",
       "      <th>Age Group</th>\n",
       "      <th></th>\n",
       "      <th></th>\n",
       "      <th></th>\n",
       "      <th></th>\n",
       "      <th></th>\n",
       "      <th></th>\n",
       "    </tr>\n",
       "  </thead>\n",
       "  <tbody>\n",
       "    <tr>\n",
       "      <th>&lt;10</th>\n",
       "      <td>17</td>\n",
       "      <td>2.95</td>\n",
       "      <td>23</td>\n",
       "      <td>$3.35</td>\n",
       "      <td>$77.13</td>\n",
       "      <td>$4.54</td>\n",
       "    </tr>\n",
       "    <tr>\n",
       "      <th>10-14</th>\n",
       "      <td>22</td>\n",
       "      <td>3.82</td>\n",
       "      <td>28</td>\n",
       "      <td>$2.96</td>\n",
       "      <td>$82.78</td>\n",
       "      <td>$3.76</td>\n",
       "    </tr>\n",
       "    <tr>\n",
       "      <th>15-19</th>\n",
       "      <td>107</td>\n",
       "      <td>18.58</td>\n",
       "      <td>136</td>\n",
       "      <td>$3.04</td>\n",
       "      <td>$412.89</td>\n",
       "      <td>$3.86</td>\n",
       "    </tr>\n",
       "    <tr>\n",
       "      <th>20-24</th>\n",
       "      <td>258</td>\n",
       "      <td>44.79</td>\n",
       "      <td>365</td>\n",
       "      <td>$3.05</td>\n",
       "      <td>$1,114.06</td>\n",
       "      <td>$4.32</td>\n",
       "    </tr>\n",
       "    <tr>\n",
       "      <th>25-29</th>\n",
       "      <td>77</td>\n",
       "      <td>13.37</td>\n",
       "      <td>101</td>\n",
       "      <td>$2.90</td>\n",
       "      <td>$293.00</td>\n",
       "      <td>$3.81</td>\n",
       "    </tr>\n",
       "    <tr>\n",
       "      <th>30-34</th>\n",
       "      <td>52</td>\n",
       "      <td>9.03</td>\n",
       "      <td>73</td>\n",
       "      <td>$2.93</td>\n",
       "      <td>$214.00</td>\n",
       "      <td>$4.12</td>\n",
       "    </tr>\n",
       "    <tr>\n",
       "      <th>35-39</th>\n",
       "      <td>31</td>\n",
       "      <td>5.38</td>\n",
       "      <td>41</td>\n",
       "      <td>$3.60</td>\n",
       "      <td>$147.67</td>\n",
       "      <td>$4.76</td>\n",
       "    </tr>\n",
       "    <tr>\n",
       "      <th>40+</th>\n",
       "      <td>12</td>\n",
       "      <td>2.08</td>\n",
       "      <td>13</td>\n",
       "      <td>$2.94</td>\n",
       "      <td>$38.24</td>\n",
       "      <td>$3.19</td>\n",
       "    </tr>\n",
       "  </tbody>\n",
       "</table>\n",
       "</div>"
      ],
      "text/plain": [
       "           Player Count  Percentage of Player  Purchase Count  \\\n",
       "Age Group                                                       \n",
       "<10                  17                  2.95              23   \n",
       "10-14                22                  3.82              28   \n",
       "15-19               107                 18.58             136   \n",
       "20-24               258                 44.79             365   \n",
       "25-29                77                 13.37             101   \n",
       "30-34                52                  9.03              73   \n",
       "35-39                31                  5.38              41   \n",
       "40+                  12                  2.08              13   \n",
       "\n",
       "          Average Purchase Price Total Purchase Value  \\\n",
       "Age Group                                               \n",
       "<10                        $3.35               $77.13   \n",
       "10-14                      $2.96               $82.78   \n",
       "15-19                      $3.04              $412.89   \n",
       "20-24                      $3.05            $1,114.06   \n",
       "25-29                      $2.90              $293.00   \n",
       "30-34                      $2.93              $214.00   \n",
       "35-39                      $3.60              $147.67   \n",
       "40+                        $2.94               $38.24   \n",
       "\n",
       "          Average Total Purchase Per Person  \n",
       "Age Group                                    \n",
       "<10                                   $4.54  \n",
       "10-14                                 $3.76  \n",
       "15-19                                 $3.86  \n",
       "20-24                                 $4.32  \n",
       "25-29                                 $3.81  \n",
       "30-34                                 $4.12  \n",
       "35-39                                 $4.76  \n",
       "40+                                   $3.19  "
      ]
     },
     "execution_count": 51,
     "metadata": {},
     "output_type": "execute_result"
    }
   ],
   "source": [
    "ad_summary=pd.DataFrame({'Purchase Count': groupby_age_purchase_data_df['Item ID'].count(),\n",
    "                         'Average Purchase Price': round(groupby_age_purchase_data_df['Price'].mean(),2),\n",
    "                         'Total Purchase Value': groupby_age_purchase_data_df['Price'].sum(),\n",
    "                         'Player Count': [count_under_10,count_10_14,count_15_19,\n",
    "                                          count_20_24,count_25_29,count_30_34,count_35_39,count_40_plus]})\n",
    "ad_summary['Average Total Purchase Per Person']=round(ad_summary['Total Purchase Value']/ad_summary['Player Count'],2)\n",
    "ad_summary['Percentage of Player']=round(ad_summary['Player Count']/players_total*100,2)\n",
    "\n",
    "ad_summary['Average Purchase Price']=ad_summary['Average Purchase Price'].map('${:4,.2f}'.format)\n",
    "ad_summary['Total Purchase Value']=ad_summary['Total Purchase Value'].map('${:4,.2f}'.format)\n",
    "ad_summary['Average Total Purchase Per Person']=ad_summary['Average Total Purchase Per Person'].map('${:4,.2f}'.format)\n",
    "\n",
    "\n",
    "ad_summary[['Player Count', 'Percentage of Player','Purchase Count','Average Purchase Price','Total Purchase Value','Average Total Purchase Per Person']]\n",
    "\n"
   ]
  },
  {
   "cell_type": "code",
   "execution_count": 40,
   "metadata": {},
   "outputs": [
    {
     "data": {
      "text/plain": [
       "SN\n",
       "Lisosia93      18.96\n",
       "Idastidru52    15.45\n",
       "Chamjask73     13.83\n",
       "Iral74         13.62\n",
       "Iskadarya95    13.10\n",
       "Name: Price, dtype: float64"
      ]
     },
     "execution_count": 40,
     "metadata": {},
     "output_type": "execute_result"
    }
   ],
   "source": [
    "groupby_sn_df=purchase_data_df.groupby(['SN'])\n",
    "sum_groupby_sn_df=groupby_sn_df['Price'].sum()\n",
    "top_spender_df=sum_groupby_sn_df.sort_values(ascending=False)\n",
    "top_5_spender=top_spender_df.head(5)\n",
    "top_5_spender"
   ]
  },
  {
   "cell_type": "code",
   "execution_count": 41,
   "metadata": {},
   "outputs": [
    {
     "data": {
      "text/plain": [
       "SN\n",
       "Lisosia93      5\n",
       "Idastidru52    4\n",
       "Chamjask73     3\n",
       "Iral74         4\n",
       "Iskadarya95    3\n",
       "Name: Item ID, dtype: int64"
      ]
     },
     "execution_count": 41,
     "metadata": {},
     "output_type": "execute_result"
    }
   ],
   "source": [
    "top_spender_item_count=groupby_sn_df['Item ID'].count()\n",
    "top_5_item_count=top_spender_item_count.loc[['Lisosia93','Idastidru52','Chamjask73','Iral74','Iskadarya95']]\n",
    "top_5_item_count"
   ]
  },
  {
   "cell_type": "code",
   "execution_count": 42,
   "metadata": {},
   "outputs": [
    {
     "data": {
      "text/html": [
       "<div>\n",
       "<style scoped>\n",
       "    .dataframe tbody tr th:only-of-type {\n",
       "        vertical-align: middle;\n",
       "    }\n",
       "\n",
       "    .dataframe tbody tr th {\n",
       "        vertical-align: top;\n",
       "    }\n",
       "\n",
       "    .dataframe thead th {\n",
       "        text-align: right;\n",
       "    }\n",
       "</style>\n",
       "<table border=\"1\" class=\"dataframe\">\n",
       "  <thead>\n",
       "    <tr style=\"text-align: right;\">\n",
       "      <th></th>\n",
       "      <th>Total Purchase Value</th>\n",
       "      <th>Purchase Count</th>\n",
       "      <th>Average Purchase Price</th>\n",
       "    </tr>\n",
       "    <tr>\n",
       "      <th>SN</th>\n",
       "      <th></th>\n",
       "      <th></th>\n",
       "      <th></th>\n",
       "    </tr>\n",
       "  </thead>\n",
       "  <tbody>\n",
       "    <tr>\n",
       "      <th>Lisosia93</th>\n",
       "      <td>$18.96</td>\n",
       "      <td>5</td>\n",
       "      <td>$3.79</td>\n",
       "    </tr>\n",
       "    <tr>\n",
       "      <th>Idastidru52</th>\n",
       "      <td>$15.45</td>\n",
       "      <td>4</td>\n",
       "      <td>$3.86</td>\n",
       "    </tr>\n",
       "    <tr>\n",
       "      <th>Chamjask73</th>\n",
       "      <td>$13.83</td>\n",
       "      <td>3</td>\n",
       "      <td>$4.61</td>\n",
       "    </tr>\n",
       "    <tr>\n",
       "      <th>Iral74</th>\n",
       "      <td>$13.62</td>\n",
       "      <td>4</td>\n",
       "      <td>$3.40</td>\n",
       "    </tr>\n",
       "    <tr>\n",
       "      <th>Iskadarya95</th>\n",
       "      <td>$13.10</td>\n",
       "      <td>3</td>\n",
       "      <td>$4.37</td>\n",
       "    </tr>\n",
       "  </tbody>\n",
       "</table>\n",
       "</div>"
      ],
      "text/plain": [
       "            Total Purchase Value  Purchase Count Average Purchase Price\n",
       "SN                                                                     \n",
       "Lisosia93                 $18.96               5                  $3.79\n",
       "Idastidru52               $15.45               4                  $3.86\n",
       "Chamjask73                $13.83               3                  $4.61\n",
       "Iral74                    $13.62               4                  $3.40\n",
       "Iskadarya95               $13.10               3                  $4.37"
      ]
     },
     "execution_count": 42,
     "metadata": {},
     "output_type": "execute_result"
    }
   ],
   "source": [
    "top_spender_summary=pd.DataFrame({'Total Purchase Value':top_5_spender,\n",
    "                                 'Purchase Count':top_5_item_count,})\n",
    "top_spender_summary['Average Purchase Price']=round(top_spender_summary['Total Purchase Value']/top_spender_summary['Purchase Count'],2)\n",
    "\n",
    "top_spender_summary['Total Purchase Value']=top_spender_summary['Total Purchase Value'].map('${:4,.2f}'.format)\n",
    "top_spender_summary['Average Purchase Price']=top_spender_summary['Average Purchase Price'].map('${:4,.2f}'.format)\n",
    "\n",
    "top_spender_summary"
   ]
  },
  {
   "cell_type": "code",
   "execution_count": 43,
   "metadata": {},
   "outputs": [
    {
     "data": {
      "text/html": [
       "<div>\n",
       "<style scoped>\n",
       "    .dataframe tbody tr th:only-of-type {\n",
       "        vertical-align: middle;\n",
       "    }\n",
       "\n",
       "    .dataframe tbody tr th {\n",
       "        vertical-align: top;\n",
       "    }\n",
       "\n",
       "    .dataframe thead th {\n",
       "        text-align: right;\n",
       "    }\n",
       "</style>\n",
       "<table border=\"1\" class=\"dataframe\">\n",
       "  <thead>\n",
       "    <tr style=\"text-align: right;\">\n",
       "      <th></th>\n",
       "      <th>Item ID</th>\n",
       "      <th>Item Name</th>\n",
       "      <th>Price</th>\n",
       "    </tr>\n",
       "  </thead>\n",
       "  <tbody>\n",
       "    <tr>\n",
       "      <th>0</th>\n",
       "      <td>108</td>\n",
       "      <td>Extraction, Quickblade Of Trembling Hands</td>\n",
       "      <td>3.53</td>\n",
       "    </tr>\n",
       "    <tr>\n",
       "      <th>1</th>\n",
       "      <td>143</td>\n",
       "      <td>Frenzied Scimitar</td>\n",
       "      <td>1.56</td>\n",
       "    </tr>\n",
       "    <tr>\n",
       "      <th>2</th>\n",
       "      <td>92</td>\n",
       "      <td>Final Critic</td>\n",
       "      <td>4.88</td>\n",
       "    </tr>\n",
       "    <tr>\n",
       "      <th>3</th>\n",
       "      <td>100</td>\n",
       "      <td>Blindscythe</td>\n",
       "      <td>3.27</td>\n",
       "    </tr>\n",
       "    <tr>\n",
       "      <th>4</th>\n",
       "      <td>131</td>\n",
       "      <td>Fury</td>\n",
       "      <td>1.44</td>\n",
       "    </tr>\n",
       "  </tbody>\n",
       "</table>\n",
       "</div>"
      ],
      "text/plain": [
       "   Item ID                                  Item Name  Price\n",
       "0      108  Extraction, Quickblade Of Trembling Hands   3.53\n",
       "1      143                          Frenzied Scimitar   1.56\n",
       "2       92                               Final Critic   4.88\n",
       "3      100                                Blindscythe   3.27\n",
       "4      131                                       Fury   1.44"
      ]
     },
     "execution_count": 43,
     "metadata": {},
     "output_type": "execute_result"
    }
   ],
   "source": [
    "item_df=purchase_data_df[['Item ID','Item Name','Price']]\n",
    "item_df.head()"
   ]
  },
  {
   "cell_type": "code",
   "execution_count": 44,
   "metadata": {},
   "outputs": [
    {
     "data": {
      "text/html": [
       "<div>\n",
       "<style scoped>\n",
       "    .dataframe tbody tr th:only-of-type {\n",
       "        vertical-align: middle;\n",
       "    }\n",
       "\n",
       "    .dataframe tbody tr th {\n",
       "        vertical-align: top;\n",
       "    }\n",
       "\n",
       "    .dataframe thead th {\n",
       "        text-align: right;\n",
       "    }\n",
       "</style>\n",
       "<table border=\"1\" class=\"dataframe\">\n",
       "  <thead>\n",
       "    <tr style=\"text-align: right;\">\n",
       "      <th></th>\n",
       "      <th>Item ID</th>\n",
       "      <th>Item Name</th>\n",
       "      <th>Price</th>\n",
       "    </tr>\n",
       "  </thead>\n",
       "  <tbody>\n",
       "    <tr>\n",
       "      <th>204</th>\n",
       "      <td>0</td>\n",
       "      <td>Splinter</td>\n",
       "      <td>1.28</td>\n",
       "    </tr>\n",
       "    <tr>\n",
       "      <th>662</th>\n",
       "      <td>0</td>\n",
       "      <td>Splinter</td>\n",
       "      <td>1.28</td>\n",
       "    </tr>\n",
       "    <tr>\n",
       "      <th>133</th>\n",
       "      <td>0</td>\n",
       "      <td>Splinter</td>\n",
       "      <td>1.28</td>\n",
       "    </tr>\n",
       "    <tr>\n",
       "      <th>150</th>\n",
       "      <td>0</td>\n",
       "      <td>Splinter</td>\n",
       "      <td>1.28</td>\n",
       "    </tr>\n",
       "    <tr>\n",
       "      <th>121</th>\n",
       "      <td>1</td>\n",
       "      <td>Crucifer</td>\n",
       "      <td>3.26</td>\n",
       "    </tr>\n",
       "  </tbody>\n",
       "</table>\n",
       "</div>"
      ],
      "text/plain": [
       "     Item ID Item Name  Price\n",
       "204        0  Splinter   1.28\n",
       "662        0  Splinter   1.28\n",
       "133        0  Splinter   1.28\n",
       "150        0  Splinter   1.28\n",
       "121        1  Crucifer   3.26"
      ]
     },
     "execution_count": 44,
     "metadata": {},
     "output_type": "execute_result"
    }
   ],
   "source": [
    "sorted_item_df=item_df.sort_values(['Item ID'])\n",
    "sorted_item_df.head()"
   ]
  },
  {
   "cell_type": "code",
   "execution_count": 45,
   "metadata": {},
   "outputs": [],
   "source": [
    "groupby_sorted_item_df=sorted_item_df.groupby(['Item ID','Item Name'])"
   ]
  },
  {
   "cell_type": "code",
   "execution_count": 46,
   "metadata": {},
   "outputs": [
    {
     "data": {
      "text/plain": [
       "Item ID  Item Name                                     Price\n",
       "0        Splinter                                      1.28      4\n",
       "1        Crucifer                                      3.26      3\n",
       "2        Verdict                                       2.48      6\n",
       "3        Phantomlight                                  2.49      6\n",
       "4        Bloodlord's Fetish                            1.70      5\n",
       "5        Putrid Fan                                    4.08      4\n",
       "6        Rusty Skull                                   3.70      2\n",
       "7        Thorn, Satchel of Dark Souls                  1.33      7\n",
       "8        Purgatory, Gem of Regret                      3.93      3\n",
       "9        Thorn, Conqueror of the Corrupted             2.73      4\n",
       "10       Sleepwalker                                   1.79      4\n",
       "11       Brimstone                                     3.65      5\n",
       "12       Dawne                                         1.02      6\n",
       "13       Serenity                                      1.41      4\n",
       "14       Possessed Core                                2.61      2\n",
       "15       Soul Infused Crystal                          2.96      5\n",
       "16       Restored Bauble                               3.55      4\n",
       "17       Lazarus, Terror of the Earth                  1.70      4\n",
       "18       Torchlight, Bond of Storms                    4.65      2\n",
       "19       Pursuit, Cudgel of Necromancy                 1.02      8\n",
       "20       Netherbane                                    3.27      5\n",
       "21       Souleater                                     1.10      5\n",
       "22       Amnesia                                       2.18      6\n",
       "23       Crucifer                                      1.99      1\n",
       "24       Warped Fetish                                 3.81      5\n",
       "25       Hero Cane                                     4.35      6\n",
       "26       Unholy Wand                                   1.12      2\n",
       "27       Riddle, Tribute of Ended Dreams               3.30      1\n",
       "28       Flux, Destroyer of Due Diligence              1.06      2\n",
       "29       Chaos, Ender of the End                       1.98      5\n",
       "                                                                ..\n",
       "154      Feral Katana                                  4.40      4\n",
       "155      War-Forged Gold Deflector                     1.01      5\n",
       "156      Soul-Forged Steel Shortsword                  1.77      5\n",
       "157      Spada, Etcher of Hatred                       4.80      4\n",
       "158      Darkheart, Butcher of the Champion            2.45      2\n",
       "159      Oathbreaker, Spellblade of Trials             3.08      7\n",
       "160      Azurewrath                                    4.40      6\n",
       "161      Devine                                        1.76      5\n",
       "162      Abyssal Shard                                 2.67      5\n",
       "163      Thunderfury Scimitar                          3.45      5\n",
       "164      Exiled Doomblade                              1.63      7\n",
       "165      Bone Crushing Silver Skewer                   4.86      4\n",
       "166      Thirsty Iron Reaver                           3.07      3\n",
       "167      Malice, Legacy of the Queen                   3.61      4\n",
       "168      Sun Strike, Jaws of Twisted Visions           1.48      2\n",
       "169      Interrogator, Blood Blade of the Queen        2.18      4\n",
       "170      Shadowsteel                                   3.97      4\n",
       "171      Scalpel                                       1.79      3\n",
       "172      Blade of the Grave                            3.14      4\n",
       "173      Stormfury Longsword                           4.93      2\n",
       "174      Primitive Blade                               3.47      4\n",
       "175      Woeful Adamantite Claymore                    4.48      3\n",
       "176      Relentless Iron Skewer                        2.84      2\n",
       "177      Winterthorn, Defender of Shifting Worlds      2.08      2\n",
       "178      Oathbreaker, Last Hope of the Breaking Storm  4.23     12\n",
       "179      Wolf, Promise of the Moonwalker               4.48      6\n",
       "180      Stormcaller                                   3.36      1\n",
       "181      Reaper's Toll                                 1.66      5\n",
       "182      Toothpick                                     4.03      3\n",
       "183      Dragon's Greatsword                           1.09      3\n",
       "Name: Price, Length: 183, dtype: int64"
      ]
     },
     "execution_count": 46,
     "metadata": {},
     "output_type": "execute_result"
    }
   ],
   "source": [
    "groupby_sorted_item_df['Price'].value_counts()"
   ]
  },
  {
   "cell_type": "code",
   "execution_count": 47,
   "metadata": {},
   "outputs": [],
   "source": [
    "item_summary=pd.DataFrame({'Purchase Count':groupby_sorted_item_df['Price'].value_counts()})\n",
    "                        \n",
    "new_item_summary=item_summary.reset_index(inplace=False,drop=False)\n",
    "new_item_summary['Total Purchase Value']=round(new_item_summary['Price']*new_item_summary['Purchase Count'],2)\n",
    "\n",
    "\n",
    "\n",
    "top_pop_item=new_item_summary.sort_values(['Purchase Count'],ascending=False)\n"
   ]
  },
  {
   "cell_type": "code",
   "execution_count": 48,
   "metadata": {},
   "outputs": [],
   "source": [
    "top_profit_item=new_item_summary.sort_values(['Total Purchase Value'],ascending=False)"
   ]
  },
  {
   "cell_type": "code",
   "execution_count": 49,
   "metadata": {
    "scrolled": true
   },
   "outputs": [
    {
     "data": {
      "text/html": [
       "<div>\n",
       "<style scoped>\n",
       "    .dataframe tbody tr th:only-of-type {\n",
       "        vertical-align: middle;\n",
       "    }\n",
       "\n",
       "    .dataframe tbody tr th {\n",
       "        vertical-align: top;\n",
       "    }\n",
       "\n",
       "    .dataframe thead th {\n",
       "        text-align: right;\n",
       "    }\n",
       "</style>\n",
       "<table border=\"1\" class=\"dataframe\">\n",
       "  <thead>\n",
       "    <tr style=\"text-align: right;\">\n",
       "      <th></th>\n",
       "      <th>Item ID</th>\n",
       "      <th>Item Name</th>\n",
       "      <th>Price</th>\n",
       "      <th>Purchase Count</th>\n",
       "      <th>Total Purchase Value</th>\n",
       "    </tr>\n",
       "  </thead>\n",
       "  <tbody>\n",
       "    <tr>\n",
       "      <th>177</th>\n",
       "      <td>178</td>\n",
       "      <td>Oathbreaker, Last Hope of the Breaking Storm</td>\n",
       "      <td>$4.23</td>\n",
       "      <td>12</td>\n",
       "      <td>$50.76</td>\n",
       "    </tr>\n",
       "    <tr>\n",
       "      <th>144</th>\n",
       "      <td>145</td>\n",
       "      <td>Fiery Glass Crusader</td>\n",
       "      <td>$4.58</td>\n",
       "      <td>9</td>\n",
       "      <td>$41.22</td>\n",
       "    </tr>\n",
       "    <tr>\n",
       "      <th>107</th>\n",
       "      <td>108</td>\n",
       "      <td>Extraction, Quickblade Of Trembling Hands</td>\n",
       "      <td>$3.53</td>\n",
       "      <td>9</td>\n",
       "      <td>$31.77</td>\n",
       "    </tr>\n",
       "    <tr>\n",
       "      <th>81</th>\n",
       "      <td>82</td>\n",
       "      <td>Nirvana</td>\n",
       "      <td>$4.90</td>\n",
       "      <td>9</td>\n",
       "      <td>$44.10</td>\n",
       "    </tr>\n",
       "    <tr>\n",
       "      <th>19</th>\n",
       "      <td>19</td>\n",
       "      <td>Pursuit, Cudgel of Necromancy</td>\n",
       "      <td>$1.02</td>\n",
       "      <td>8</td>\n",
       "      <td>$8.16</td>\n",
       "    </tr>\n",
       "  </tbody>\n",
       "</table>\n",
       "</div>"
      ],
      "text/plain": [
       "     Item ID                                     Item Name  Price  \\\n",
       "177      178  Oathbreaker, Last Hope of the Breaking Storm  $4.23   \n",
       "144      145                          Fiery Glass Crusader  $4.58   \n",
       "107      108     Extraction, Quickblade Of Trembling Hands  $3.53   \n",
       "81        82                                       Nirvana  $4.90   \n",
       "19        19                 Pursuit, Cudgel of Necromancy  $1.02   \n",
       "\n",
       "     Purchase Count Total Purchase Value  \n",
       "177              12               $50.76  \n",
       "144               9               $41.22  \n",
       "107               9               $31.77  \n",
       "81                9               $44.10  \n",
       "19                8                $8.16  "
      ]
     },
     "execution_count": 49,
     "metadata": {},
     "output_type": "execute_result"
    }
   ],
   "source": [
    "top_pop_item['Price']=top_pop_item['Price'].map('${:4,.2f}'.format)\n",
    "top_pop_item['Total Purchase Value']=top_pop_item['Total Purchase Value'].map('${:4,.2f}'.format)\n",
    "# top 5 popular items\n",
    "top_pop_item.head(5)"
   ]
  },
  {
   "cell_type": "code",
   "execution_count": 50,
   "metadata": {},
   "outputs": [
    {
     "data": {
      "text/html": [
       "<div>\n",
       "<style scoped>\n",
       "    .dataframe tbody tr th:only-of-type {\n",
       "        vertical-align: middle;\n",
       "    }\n",
       "\n",
       "    .dataframe tbody tr th {\n",
       "        vertical-align: top;\n",
       "    }\n",
       "\n",
       "    .dataframe thead th {\n",
       "        text-align: right;\n",
       "    }\n",
       "</style>\n",
       "<table border=\"1\" class=\"dataframe\">\n",
       "  <thead>\n",
       "    <tr style=\"text-align: right;\">\n",
       "      <th></th>\n",
       "      <th>Item ID</th>\n",
       "      <th>Item Name</th>\n",
       "      <th>Price</th>\n",
       "      <th>Purchase Count</th>\n",
       "      <th>Total Purchase Value</th>\n",
       "    </tr>\n",
       "  </thead>\n",
       "  <tbody>\n",
       "    <tr>\n",
       "      <th>177</th>\n",
       "      <td>178</td>\n",
       "      <td>Oathbreaker, Last Hope of the Breaking Storm</td>\n",
       "      <td>$4.23</td>\n",
       "      <td>12</td>\n",
       "      <td>$50.76</td>\n",
       "    </tr>\n",
       "    <tr>\n",
       "      <th>81</th>\n",
       "      <td>82</td>\n",
       "      <td>Nirvana</td>\n",
       "      <td>$4.90</td>\n",
       "      <td>9</td>\n",
       "      <td>$44.10</td>\n",
       "    </tr>\n",
       "    <tr>\n",
       "      <th>144</th>\n",
       "      <td>145</td>\n",
       "      <td>Fiery Glass Crusader</td>\n",
       "      <td>$4.58</td>\n",
       "      <td>9</td>\n",
       "      <td>$41.22</td>\n",
       "    </tr>\n",
       "    <tr>\n",
       "      <th>91</th>\n",
       "      <td>92</td>\n",
       "      <td>Final Critic</td>\n",
       "      <td>$4.88</td>\n",
       "      <td>8</td>\n",
       "      <td>$39.04</td>\n",
       "    </tr>\n",
       "    <tr>\n",
       "      <th>102</th>\n",
       "      <td>103</td>\n",
       "      <td>Singed Scalpel</td>\n",
       "      <td>$4.35</td>\n",
       "      <td>8</td>\n",
       "      <td>$34.80</td>\n",
       "    </tr>\n",
       "  </tbody>\n",
       "</table>\n",
       "</div>"
      ],
      "text/plain": [
       "     Item ID                                     Item Name  Price  \\\n",
       "177      178  Oathbreaker, Last Hope of the Breaking Storm  $4.23   \n",
       "81        82                                       Nirvana  $4.90   \n",
       "144      145                          Fiery Glass Crusader  $4.58   \n",
       "91        92                                  Final Critic  $4.88   \n",
       "102      103                                Singed Scalpel  $4.35   \n",
       "\n",
       "     Purchase Count Total Purchase Value  \n",
       "177              12               $50.76  \n",
       "81                9               $44.10  \n",
       "144               9               $41.22  \n",
       "91                8               $39.04  \n",
       "102               8               $34.80  "
      ]
     },
     "execution_count": 50,
     "metadata": {},
     "output_type": "execute_result"
    }
   ],
   "source": [
    "top_profit_item['Price']=top_profit_item['Price'].map('${:4,.2f}'.format)\n",
    "top_profit_item['Total Purchase Value']=top_profit_item['Total Purchase Value'].map('${:4,.2f}'.format)\n",
    "# top 5 most profitable items\n",
    "top_profit_item.head(5)\n"
   ]
  },
  {
   "cell_type": "code",
   "execution_count": null,
   "metadata": {},
   "outputs": [],
   "source": []
  },
  {
   "cell_type": "code",
   "execution_count": null,
   "metadata": {},
   "outputs": [],
   "source": []
  }
 ],
 "metadata": {
  "kernelspec": {
   "display_name": "Python 3",
   "language": "python",
   "name": "python3"
  },
  "language_info": {
   "codemirror_mode": {
    "name": "ipython",
    "version": 3
   },
   "file_extension": ".py",
   "mimetype": "text/x-python",
   "name": "python",
   "nbconvert_exporter": "python",
   "pygments_lexer": "ipython3",
   "version": "3.7.3"
  }
 },
 "nbformat": 4,
 "nbformat_minor": 2
}
